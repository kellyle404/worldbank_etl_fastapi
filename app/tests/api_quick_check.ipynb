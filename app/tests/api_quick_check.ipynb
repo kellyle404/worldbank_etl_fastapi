{
 "cells": [
  {
   "cell_type": "code",
   "execution_count": null,
   "id": "07a52445",
   "metadata": {},
   "outputs": [
    {
     "name": "stderr",
     "output_type": "stream",
     "text": [
      "INFO:     Started server process [8740]\n",
      "INFO:     Waiting for application startup.\n",
      "INFO:     Application startup complete.\n",
      "INFO:     Uvicorn running on http://127.0.0.1:8002 (Press CTRL+C to quit)\n"
     ]
    }
   ],
   "source": [
    "import os\n",
    "import sys\n",
    "import threading\n",
    "import uvicorn\n",
    "\n",
    "os.chdir(r\"D:\\github\\worldbank_etl_fastapi\")\n",
    "if os.getcwd() not in sys.path:\n",
    "    sys.path.append(os.getcwd())\n",
    "\n",
    "threading.Thread(\n",
    "    target=lambda: uvicorn.run(\n",
    "        \"main_api:app\",\n",
    "        host=\"127.0.0.1\",\n",
    "        port=8002,\n",
    "        log_level=\"info\",\n",
    "        access_log=False,\n",
    "        reload=False,\n",
    "    ),\n",
    "    daemon=True,\n",
    ").start()"
   ]
  },
  {
   "cell_type": "code",
   "execution_count": 8,
   "id": "50d7c48e",
   "metadata": {},
   "outputs": [
    {
     "name": "stderr",
     "output_type": "stream",
     "text": [
      "\u001b[32m2025-06-30 16:26:33.813\u001b[0m | \u001b[1mINFO    \u001b[0m | \u001b[36mapp.routers.countries\u001b[0m:\u001b[36mget_countries\u001b[0m:\u001b[36m20\u001b[0m - \u001b[1mGET /countries called with page=1, limit=10, search=''\u001b[0m\n",
      "\u001b[32m2025-06-30 16:26:33.819\u001b[0m | \u001b[1mINFO    \u001b[0m | \u001b[36mapp.routers.countries\u001b[0m:\u001b[36mget_countries\u001b[0m:\u001b[36m28\u001b[0m - \u001b[1mReturning 10 countries\u001b[0m\n",
      "\u001b[32m2025-06-30 16:26:33.827\u001b[0m | \u001b[32m\u001b[1mSUCCESS \u001b[0m | \u001b[36m__main__\u001b[0m:\u001b[36mlog_test_result\u001b[0m:\u001b[36m8\u001b[0m - \u001b[32m\u001b[1mget /countries/ success: expected 200, got 200\u001b[0m\n",
      "\u001b[32m2025-06-30 16:26:33.840\u001b[0m | \u001b[1mINFO    \u001b[0m | \u001b[36mapp.routers.countries\u001b[0m:\u001b[36mcreate_country\u001b[0m:\u001b[36m43\u001b[0m - \u001b[1mPOST /countries called with data: iso3=US, name=United States\u001b[0m\n",
      "\u001b[32m2025-06-30 16:26:33.850\u001b[0m | \u001b[33m\u001b[1mWARNING \u001b[0m | \u001b[36m__main__\u001b[0m:\u001b[36mlog_test_result\u001b[0m:\u001b[36m10\u001b[0m - \u001b[33m\u001b[1mpost /countries/ bad iso3 warning: expected 422, got 409\u001b[0m\n"
     ]
    },
    {
     "name": "stderr",
     "output_type": "stream",
     "text": [
      "\u001b[32m2025-06-30 16:26:33.861\u001b[0m | \u001b[1mINFO    \u001b[0m | \u001b[36mapp.routers.countries\u001b[0m:\u001b[36mcreate_country\u001b[0m:\u001b[36m43\u001b[0m - \u001b[1mPOST /countries called with data: iso3=USA, name=United States\u001b[0m\n",
      "\u001b[32m2025-06-30 16:26:33.874\u001b[0m | \u001b[33m\u001b[1mWARNING \u001b[0m | \u001b[36m__main__\u001b[0m:\u001b[36mlog_test_result\u001b[0m:\u001b[36m10\u001b[0m - \u001b[33m\u001b[1mpost /countries/ valid warning: expected 201, got 409\u001b[0m\n",
      "\u001b[32m2025-06-30 16:26:33.885\u001b[0m | \u001b[1mINFO    \u001b[0m | \u001b[36mapp.routers.countries\u001b[0m:\u001b[36mcreate_country\u001b[0m:\u001b[36m43\u001b[0m - \u001b[1mPOST /countries called with data: iso3=USA, name=United States\u001b[0m\n",
      "\u001b[32m2025-06-30 16:26:33.896\u001b[0m | \u001b[32m\u001b[1mSUCCESS \u001b[0m | \u001b[36m__main__\u001b[0m:\u001b[36mlog_test_result\u001b[0m:\u001b[36m8\u001b[0m - \u001b[32m\u001b[1mpost /countries/ duplicate success: expected 409, got 409\u001b[0m\n",
      "\u001b[32m2025-06-30 16:26:33.907\u001b[0m | \u001b[1mINFO    \u001b[0m | \u001b[36mapp.routers.countries\u001b[0m:\u001b[36mget_country\u001b[0m:\u001b[36m33\u001b[0m - \u001b[1mGET /countries/1 called\u001b[0m\n",
      "\u001b[32m2025-06-30 16:26:33.912\u001b[0m | \u001b[1mINFO    \u001b[0m | \u001b[36mapp.routers.countries\u001b[0m:\u001b[36mget_country\u001b[0m:\u001b[36m38\u001b[0m - \u001b[1mCountry with id=1 found: Aruba\u001b[0m\n",
      "\u001b[32m2025-06-30 16:26:33.921\u001b[0m | \u001b[32m\u001b[1mSUCCESS \u001b[0m | \u001b[36m__main__\u001b[0m:\u001b[36mlog_test_result\u001b[0m:\u001b[36m8\u001b[0m - \u001b[32m\u001b[1mget /countries/1 success: expected 200, got 200\u001b[0m\n",
      "\u001b[32m2025-06-30 16:26:33.932\u001b[0m | \u001b[1mINFO    \u001b[0m | \u001b[36mapp.routers.countries\u001b[0m:\u001b[36mget_country\u001b[0m:\u001b[36m33\u001b[0m - \u001b[1mGET /countries/999999 called\u001b[0m\n",
      "\u001b[32m2025-06-30 16:26:33.937\u001b[0m | \u001b[33m\u001b[1mWARNING \u001b[0m | \u001b[36mapp.routers.countries\u001b[0m:\u001b[36mget_country\u001b[0m:\u001b[36m36\u001b[0m - \u001b[33m\u001b[1mCountry with id=999999 not found\u001b[0m\n",
      "\u001b[32m2025-06-30 16:26:33.944\u001b[0m | \u001b[32m\u001b[1mSUCCESS \u001b[0m | \u001b[36m__main__\u001b[0m:\u001b[36mlog_test_result\u001b[0m:\u001b[36m8\u001b[0m - \u001b[32m\u001b[1mget /countries/999999 success: expected 404, got 404\u001b[0m\n",
      "\u001b[32m2025-06-30 16:26:33.956\u001b[0m | \u001b[1mINFO    \u001b[0m | \u001b[36mapp.routers.indicator_values\u001b[0m:\u001b[36mcreate_indicator_value\u001b[0m:\u001b[36m46\u001b[0m - \u001b[1mPOST /indicator-values called: indicator_id=1, country_id=1, date=2020, value=123.45\u001b[0m\n",
      "\u001b[32m2025-06-30 16:26:33.967\u001b[0m | \u001b[33m\u001b[1mWARNING \u001b[0m | \u001b[36m__main__\u001b[0m:\u001b[36mlog_test_result\u001b[0m:\u001b[36m10\u001b[0m - \u001b[33m\u001b[1mpost /indicator-values/ warning: expected 201, got 409\u001b[0m\n",
      "\u001b[32m2025-06-30 16:26:33.976\u001b[0m | \u001b[1mINFO    \u001b[0m | \u001b[36mapp.routers.indicator_values\u001b[0m:\u001b[36mcreate_indicator_value\u001b[0m:\u001b[36m46\u001b[0m - \u001b[1mPOST /indicator-values called: indicator_id=1, country_id=1, date=2020, value=123.45\u001b[0m\n",
      "\u001b[32m2025-06-30 16:26:33.986\u001b[0m | \u001b[32m\u001b[1mSUCCESS \u001b[0m | \u001b[36m__main__\u001b[0m:\u001b[36mlog_test_result\u001b[0m:\u001b[36m8\u001b[0m - \u001b[32m\u001b[1mpost /indicator-values/ duplicate success: expected 409, got 409\u001b[0m\n",
      "\u001b[32m2025-06-30 16:26:33.998\u001b[0m | \u001b[1mINFO    \u001b[0m | \u001b[36mapp.routers.indicator_values\u001b[0m:\u001b[36mget_indicator_value\u001b[0m:\u001b[36m36\u001b[0m - \u001b[1mGET /indicator-values/999999 called\u001b[0m\n",
      "\u001b[32m2025-06-30 16:26:34.003\u001b[0m | \u001b[33m\u001b[1mWARNING \u001b[0m | \u001b[36mapp.routers.indicator_values\u001b[0m:\u001b[36mget_indicator_value\u001b[0m:\u001b[36m39\u001b[0m - \u001b[33m\u001b[1mIndicator value with id=999999 not found\u001b[0m\n",
      "\u001b[32m2025-06-30 16:26:34.011\u001b[0m | \u001b[32m\u001b[1mSUCCESS \u001b[0m | \u001b[36m__main__\u001b[0m:\u001b[36mlog_test_result\u001b[0m:\u001b[36m8\u001b[0m - \u001b[32m\u001b[1mget /indicator-values/999999 success: expected 404, got 404\u001b[0m\n",
      "\u001b[32m2025-06-30 16:26:34.022\u001b[0m | \u001b[1mINFO    \u001b[0m | \u001b[36mapp.routers.indicators_meta\u001b[0m:\u001b[36mcreate_indicator\u001b[0m:\u001b[36m43\u001b[0m - \u001b[1mPOST /indicators called with code=TEST01, name=Test Indicator\u001b[0m\n",
      "\u001b[32m2025-06-30 16:26:34.034\u001b[0m | \u001b[33m\u001b[1mWARNING \u001b[0m | \u001b[36m__main__\u001b[0m:\u001b[36mlog_test_result\u001b[0m:\u001b[36m10\u001b[0m - \u001b[33m\u001b[1mpost /indicators/ warning: expected 201, got 409\u001b[0m\n",
      "\u001b[32m2025-06-30 16:26:34.045\u001b[0m | \u001b[1mINFO    \u001b[0m | \u001b[36mapp.routers.indicators_meta\u001b[0m:\u001b[36mcreate_indicator\u001b[0m:\u001b[36m43\u001b[0m - \u001b[1mPOST /indicators called with code=TEST01, name=Test Indicator\u001b[0m\n",
      "\u001b[32m2025-06-30 16:26:34.055\u001b[0m | \u001b[32m\u001b[1mSUCCESS \u001b[0m | \u001b[36m__main__\u001b[0m:\u001b[36mlog_test_result\u001b[0m:\u001b[36m8\u001b[0m - \u001b[32m\u001b[1mpost /indicators/ duplicate success: expected 409, got 409\u001b[0m\n",
      "\u001b[32m2025-06-30 16:26:34.068\u001b[0m | \u001b[1mINFO    \u001b[0m | \u001b[36mapp.routers.topics\u001b[0m:\u001b[36mcreate_topic\u001b[0m:\u001b[36m40\u001b[0m - \u001b[1mPOST /topics called with name=Test topic\u001b[0m\n",
      "\u001b[32m2025-06-30 16:26:34.079\u001b[0m | \u001b[33m\u001b[1mWARNING \u001b[0m | \u001b[36m__main__\u001b[0m:\u001b[36mlog_test_result\u001b[0m:\u001b[36m10\u001b[0m - \u001b[33m\u001b[1mpost /topics/ warning: expected 201, got 409\u001b[0m\n",
      "\u001b[32m2025-06-30 16:26:34.093\u001b[0m | \u001b[1mINFO    \u001b[0m | \u001b[36mapp.routers.topics\u001b[0m:\u001b[36mcreate_topic\u001b[0m:\u001b[36m40\u001b[0m - \u001b[1mPOST /topics called with name=Test topic\u001b[0m\n",
      "\u001b[32m2025-06-30 16:26:34.103\u001b[0m | \u001b[32m\u001b[1mSUCCESS \u001b[0m | \u001b[36m__main__\u001b[0m:\u001b[36mlog_test_result\u001b[0m:\u001b[36m8\u001b[0m - \u001b[32m\u001b[1mpost /topics/ duplicate success: expected 409, got 409\u001b[0m\n"
     ]
    }
   ],
   "source": [
    "import requests\n",
    "from app.utils.logger import logger\n",
    "\n",
    "BASE_URL = \"http://127.0.0.1:8002\"\n",
    "\n",
    "def log_test_result(status, expected, msg):\n",
    "    if status == expected:\n",
    "        logger.success(f\"{msg} success: expected {expected}, got {status}\")\n",
    "    else:\n",
    "        logger.warning(f\"{msg} warning: expected {expected}, got {status}\")\n",
    "\n",
    "response = requests.get(f\"{BASE_URL}/countries/\")\n",
    "log_test_result(response.status_code, 200, \"get /countries/\")\n",
    "\n",
    "bad_country = {\"iso3\": \"US\", \"name\": \"United States\", \"region\": \"Americas\"}\n",
    "response = requests.post(f\"{BASE_URL}/countries/\", json=bad_country)\n",
    "log_test_result(response.status_code, 422, \"post /countries/ bad iso3\")\n",
    "\n",
    "good_country = {\"iso3\": \"USA\", \"name\": \"United States\", \"region\": \"Americas\"}\n",
    "response = requests.post(f\"{BASE_URL}/countries/\", json=good_country)\n",
    "log_test_result(response.status_code, 201, \"post /countries/ valid\")\n",
    "\n",
    "response = requests.post(f\"{BASE_URL}/countries/\", json=good_country)\n",
    "log_test_result(response.status_code, 409, \"post /countries/ duplicate\")\n",
    "\n",
    "country_id = response.json().get(\"id\", 1)\n",
    "response = requests.get(f\"{BASE_URL}/countries/{country_id}\")\n",
    "log_test_result(response.status_code, 200, f\"get /countries/{country_id}\")\n",
    "\n",
    "response = requests.get(f\"{BASE_URL}/countries/999999\")\n",
    "log_test_result(response.status_code, 404, \"get /countries/999999\")\n",
    "\n",
    "iv = {\"indicator_id\": 1, \"country_id\": 1, \"date\": 2020, \"value\": 123.45}\n",
    "response = requests.post(f\"{BASE_URL}/indicator-values/\", json=iv)\n",
    "log_test_result(response.status_code, 201, \"post /indicator-values/\")\n",
    "\n",
    "response = requests.post(f\"{BASE_URL}/indicator-values/\", json=iv)\n",
    "log_test_result(response.status_code, 409, \"post /indicator-values/ duplicate\")\n",
    "\n",
    "response = requests.get(f\"{BASE_URL}/indicator-values/999999\")\n",
    "log_test_result(response.status_code, 404, \"get /indicator-values/999999\")\n",
    "\n",
    "indicator = {\"code\": \"TEST01\", \"name\": \"Test Indicator\", \"topic_id\": 1, \"source_note\": \"Test note\"}\n",
    "response = requests.post(f\"{BASE_URL}/indicators/\", json=indicator)\n",
    "log_test_result(response.status_code, 201, \"post /indicators/\")\n",
    "\n",
    "response = requests.post(f\"{BASE_URL}/indicators/\", json=indicator)\n",
    "log_test_result(response.status_code, 409, \"post /indicators/ duplicate\")\n",
    "\n",
    "topic = {\"name\": \"Test topic\"}\n",
    "response = requests.post(f\"{BASE_URL}/topics/\", json=topic)\n",
    "log_test_result(response.status_code, 201, \"post /topics/\")\n",
    "\n",
    "response = requests.post(f\"{BASE_URL}/topics/\", json=topic)\n",
    "log_test_result(response.status_code, 409, \"post /topics/ duplicate\")"
   ]
  }
 ],
 "metadata": {
  "kernelspec": {
   "display_name": "Python 3",
   "language": "python",
   "name": "python3"
  },
  "language_info": {
   "codemirror_mode": {
    "name": "ipython",
    "version": 3
   },
   "file_extension": ".py",
   "mimetype": "text/x-python",
   "name": "python",
   "nbconvert_exporter": "python",
   "pygments_lexer": "ipython3",
   "version": "3.11.0"
  }
 },
 "nbformat": 4,
 "nbformat_minor": 5
}
